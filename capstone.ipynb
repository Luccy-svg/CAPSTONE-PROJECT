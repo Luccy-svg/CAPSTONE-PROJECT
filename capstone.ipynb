{
 "cells": [
  {
   "cell_type": "markdown",
   "id": "1ffe79e0-b375-430c-af46-bf3e1d7ec47a",
   "metadata": {},
   "source": [
    "# 1. Business Understanding\n",
    "## 1.1 Background\n",
    "\n",
    "Semiconductor manufacturing is a highly complex and capital-intensive process involving hundreds of fabrication steps that must be performed with extreme precision.\n",
    "\n",
    "Even microscopic defects introduced during wafer processing can lead to complete product failure, reducing manufacturing yield and increasing production costs.\n",
    "\n",
    "\n",
    "Traditionally, quality control in semiconductor fabrication has relied on manual inspection and rule-based systems, which are time-consuming, subjective, and often unable to keep up with modern production speeds.\n",
    "\n",
    "In recent years, semiconductor companies such as Intel, TSMC, and Samsung,Nvidia have shifted toward AI-driven defect detection systems to improve yield prediction, defect localization, and root-cause analysis.\n",
    "\n",
    "Leveraging machine learning and computer vision, these systems can detect defect patterns directly from wafer map images, enabling earlier and more accurate interventions in the production line.\n",
    "\n",
    "## 1.2 Problem Statement\n",
    "\n",
    "Manufacturers need an efficient and automated method to identify and classify wafer defects early in the production process.\n",
    "\n",
    "Manual inspection systems fail to scale with high-volume production and cannot accurately identify subtle, complex defect patterns.\n",
    "\n",
    "Therefore, the goal is to develop a machine learning-based image analysis model capable of automatically detecting and classifying defect patterns in wafer maps therefore improving yield, reducing inspection time, and minimizing production losses.\n",
    "\n",
    "## 1.3 Business Objective\n",
    "\n",
    "The primary business objective is to enhance production efficiency and quality assurance in semiconductor manufacturing by automating defect detection.\n",
    "\n",
    "The system will:\n",
    "\n",
    "- Identify wafer defect types using image-based pattern recognition.\n",
    "\n",
    "- Support process engineers in diagnosing the root cause of production faults.\n",
    "\n",
    "- Reduce manual inspection time and related operational costs.\n",
    "\n",
    "- Improve yield rate and product reliability.\n",
    "\n",
    "Ultimately, the project aims to demonstrate how AI-based defect detection can improve decision-making, reduce downtime, and ensure data-driven manufacturing optimization.\n",
    "\n",
    "## 1.4 Project Goal\n",
    "\n",
    "To build and deploy a deep learning-based image classification model capable of identifying common wafer defect patterns (e.g., center, edge-ring, scratch, random) using the WM811K dataset. The model’s predictions will be integrated into an interactive Streamlit dashboard, allowing users to:\n",
    "\n",
    "- Upload wafer map images,\n",
    "- \n",
    "- View real-time defect classification and confidence levels, and\n",
    "- \n",
    "- Visualize feature importance or activation maps (Grad-CAM) for interpretability.\n",
    "\n",
    "## 1.5 Expected Business Impact\n",
    "\n",
    "- `Operational Efficiency:`\tFaster and more accurate defect detection compared to manual methods.\n",
    "- \n",
    "- `Cost Reduction:`\tReduced labor costs and fewer defective chips reaching final testing.\n",
    "- \n",
    "- `Quality Improvement:` Early detection minimizes yield loss and improves product reliability.\n",
    "- \n",
    "- `Decision Support:`\tData-driven insights for process optimization and predictive maintenance.\n",
    "- \n",
    "- `Scalability:`\tSystem can be integrated into production pipelines and scaled to new wafer types.\n",
    "## 1.6 Success Metrics\n",
    "\n",
    "- Accuracy / F1 Score of classification model \n",
    "\n",
    "- Reduction in defect inspection time by .\n",
    "\n",
    "- Improved detection of rare defect patterns (using confusion matrix or recall metrics).\n",
    "\n",
    "- Usability feedback from engineers or end-users on the Streamlit dashboard prototype.\n",
    "\n",
    "## 1.7 Data Understanding\n",
    "\n",
    "The goal is to Describe the origin and nature of the data.\n",
    "\n",
    "**Data Source**\n",
    "\n",
    "**Data Volume** : The dataset has **811,457** ROWS and **6** COLUMNS .\n",
    "This allows substantial pattern detection\n",
    "\n",
    "**Data Features**:\n",
    "1. **dieSize**: Numeric, possibly indicating chip dimensions.\n",
    "\n",
    "2. **failureType**: Categorical or missing, representing defect type.\n",
    "\n",
    "3. **lotName**: Identifier for production batch.\n",
    "\n",
    "4. **trainTestLabel**: Indicates whether the row is for training or testing.\n",
    "\n",
    "5. **waferIndex**: Numeric, likely a position or ID.\n",
    "\n",
    "6. **waferMap**: A 2D array representing the wafer layout and defect positions."
   ]
  },
  {
   "cell_type": "markdown",
   "id": "159c09ab-bf40-4504-84ef-53ee62c534d5",
   "metadata": {},
   "source": [
    "## Data Loading and Reading of the file"
   ]
  },
  {
   "cell_type": "code",
   "execution_count": 1,
   "id": "e692c523-6bb8-4d42-944b-929a0358dbae",
   "metadata": {},
   "outputs": [
    {
     "data": {
      "text/html": [
       "<div>\n",
       "<style scoped>\n",
       "    .dataframe tbody tr th:only-of-type {\n",
       "        vertical-align: middle;\n",
       "    }\n",
       "\n",
       "    .dataframe tbody tr th {\n",
       "        vertical-align: top;\n",
       "    }\n",
       "\n",
       "    .dataframe thead th {\n",
       "        text-align: right;\n",
       "    }\n",
       "</style>\n",
       "<table border=\"1\" class=\"dataframe\">\n",
       "  <thead>\n",
       "    <tr style=\"text-align: right;\">\n",
       "      <th></th>\n",
       "      <th>dieSize</th>\n",
       "      <th>failureType</th>\n",
       "      <th>lotName</th>\n",
       "      <th>trainTestLabel</th>\n",
       "      <th>waferIndex</th>\n",
       "      <th>waferMap</th>\n",
       "    </tr>\n",
       "  </thead>\n",
       "  <tbody>\n",
       "    <tr>\n",
       "      <th>0</th>\n",
       "      <td>1683.0</td>\n",
       "      <td>none</td>\n",
       "      <td>lot1</td>\n",
       "      <td>Training</td>\n",
       "      <td>1.0</td>\n",
       "      <td>[[0, 0, 0, 0, 0, 0, 0, 0, 0, 0, 0, 0, 0, 0, 0,...</td>\n",
       "    </tr>\n",
       "    <tr>\n",
       "      <th>1</th>\n",
       "      <td>1683.0</td>\n",
       "      <td>none</td>\n",
       "      <td>lot1</td>\n",
       "      <td>Training</td>\n",
       "      <td>2.0</td>\n",
       "      <td>[[0, 0, 0, 0, 0, 0, 0, 0, 0, 0, 0, 0, 0, 0, 0,...</td>\n",
       "    </tr>\n",
       "    <tr>\n",
       "      <th>2</th>\n",
       "      <td>1683.0</td>\n",
       "      <td>none</td>\n",
       "      <td>lot1</td>\n",
       "      <td>Training</td>\n",
       "      <td>3.0</td>\n",
       "      <td>[[0, 0, 0, 0, 0, 0, 0, 0, 0, 0, 0, 0, 0, 0, 0,...</td>\n",
       "    </tr>\n",
       "    <tr>\n",
       "      <th>3</th>\n",
       "      <td>1683.0</td>\n",
       "      <td>none</td>\n",
       "      <td>lot1</td>\n",
       "      <td>Training</td>\n",
       "      <td>4.0</td>\n",
       "      <td>[[0, 0, 0, 0, 0, 0, 0, 0, 0, 0, 0, 0, 0, 0, 0,...</td>\n",
       "    </tr>\n",
       "    <tr>\n",
       "      <th>4</th>\n",
       "      <td>1683.0</td>\n",
       "      <td>none</td>\n",
       "      <td>lot1</td>\n",
       "      <td>Training</td>\n",
       "      <td>5.0</td>\n",
       "      <td>[[0, 0, 0, 0, 0, 0, 0, 0, 0, 0, 0, 0, 0, 0, 0,...</td>\n",
       "    </tr>\n",
       "  </tbody>\n",
       "</table>\n",
       "</div>"
      ],
      "text/plain": [
       "   dieSize failureType lotName trainTestLabel  waferIndex  \\\n",
       "0   1683.0        none    lot1       Training         1.0   \n",
       "1   1683.0        none    lot1       Training         2.0   \n",
       "2   1683.0        none    lot1       Training         3.0   \n",
       "3   1683.0        none    lot1       Training         4.0   \n",
       "4   1683.0        none    lot1       Training         5.0   \n",
       "\n",
       "                                            waferMap  \n",
       "0  [[0, 0, 0, 0, 0, 0, 0, 0, 0, 0, 0, 0, 0, 0, 0,...  \n",
       "1  [[0, 0, 0, 0, 0, 0, 0, 0, 0, 0, 0, 0, 0, 0, 0,...  \n",
       "2  [[0, 0, 0, 0, 0, 0, 0, 0, 0, 0, 0, 0, 0, 0, 0,...  \n",
       "3  [[0, 0, 0, 0, 0, 0, 0, 0, 0, 0, 0, 0, 0, 0, 0,...  \n",
       "4  [[0, 0, 0, 0, 0, 0, 0, 0, 0, 0, 0, 0, 0, 0, 0,...  "
      ]
     },
     "execution_count": 1,
     "metadata": {},
     "output_type": "execute_result"
    }
   ],
   "source": [
    "# import pandas as pd \n",
    "import pandas as pd\n",
    "# import numpy as np\n",
    "import numpy as np\n",
    "\n",
    "df = pd.read_pickle(\"WM811K_fixed.pkl\")\n",
    "# review the top 5 rows of the file\n",
    "df.head()"
   ]
  },
  {
   "cell_type": "markdown",
   "id": "82392298-afb5-40d9-9ca0-74cf6e1bd32b",
   "metadata": {},
   "source": [
    "## Data Understanding And Description\n",
    "\n",
    "The objective is to have a general understnading of our data .\n",
    "We inspect various aspects such as \n",
    "\n",
    "1. Data Dimensionality : Understanding the number of rows and columns\n",
    "2. Data types\n",
    "3. Concise data summary\n",
    "4. Checking for missing values\n",
    "5. checking for duplicates "
   ]
  },
  {
   "cell_type": "code",
   "execution_count": 2,
   "id": "b08ee6a8-0eff-42de-b108-d4cd388bcf20",
   "metadata": {},
   "outputs": [
    {
     "data": {
      "text/plain": [
       "(811457, 6)"
      ]
     },
     "execution_count": 2,
     "metadata": {},
     "output_type": "execute_result"
    }
   ],
   "source": [
    "# checking for data structure / dimensions \n",
    "df.shape"
   ]
  },
  {
   "cell_type": "markdown",
   "id": "4d58c852-2621-471d-aa18-0be557817a2d",
   "metadata": {},
   "source": [
    "##### \n",
    "Data has a total of :\n",
    "\n",
    "**rows** = 811,457\n",
    "**columns** = 6"
   ]
  },
  {
   "cell_type": "code",
   "execution_count": 3,
   "id": "32a9b4ad-b980-4f20-9338-de4d524e71f3",
   "metadata": {},
   "outputs": [
    {
     "data": {
      "text/plain": [
       "['dieSize',\n",
       " 'failureType',\n",
       " 'lotName',\n",
       " 'trainTestLabel',\n",
       " 'waferIndex',\n",
       " 'waferMap']"
      ]
     },
     "execution_count": 3,
     "metadata": {},
     "output_type": "execute_result"
    }
   ],
   "source": [
    "# checking for column names \n",
    "df.columns.tolist()"
   ]
  },
  {
   "cell_type": "code",
   "execution_count": 4,
   "id": "c09b9333-09cf-4fe3-8504-5e718a6f85ff",
   "metadata": {},
   "outputs": [
    {
     "name": "stdout",
     "output_type": "stream",
     "text": [
      "<class 'pandas.core.frame.DataFrame'>\n",
      "RangeIndex: 811457 entries, 0 to 811456\n",
      "Data columns (total 6 columns):\n",
      " #   Column          Non-Null Count   Dtype  \n",
      "---  ------          --------------   -----  \n",
      " 0   dieSize         811457 non-null  float64\n",
      " 1   failureType     811457 non-null  object \n",
      " 2   lotName         811457 non-null  object \n",
      " 3   trainTestLabel  811457 non-null  object \n",
      " 4   waferIndex      811457 non-null  float64\n",
      " 5   waferMap        811457 non-null  object \n",
      "dtypes: float64(2), object(4)\n",
      "memory usage: 37.1+ MB\n"
     ]
    }
   ],
   "source": [
    "#checking data summary information\n",
    "df.info()"
   ]
  },
  {
   "cell_type": "markdown",
   "id": "150289b7-fbe2-48ff-80c4-144f2b342dee",
   "metadata": {},
   "source": [
    "####\n",
    "\n",
    ". **Data Integrity** : No missing values across any column\n",
    "\n",
    ". **Data Types** :\n",
    "\n",
    "float64: Numerical features -- dieSize,waferIndex\n",
    "\n",
    "objectL: Categorical / encoded features -- failureType,LotName"
   ]
  },
  {
   "cell_type": "code",
   "execution_count": 5,
   "id": "ab759b2d-0771-4f5b-94c8-062b4e2269f0",
   "metadata": {},
   "outputs": [
    {
     "data": {
      "text/html": [
       "<div>\n",
       "<style scoped>\n",
       "    .dataframe tbody tr th:only-of-type {\n",
       "        vertical-align: middle;\n",
       "    }\n",
       "\n",
       "    .dataframe tbody tr th {\n",
       "        vertical-align: top;\n",
       "    }\n",
       "\n",
       "    .dataframe thead th {\n",
       "        text-align: right;\n",
       "    }\n",
       "</style>\n",
       "<table border=\"1\" class=\"dataframe\">\n",
       "  <thead>\n",
       "    <tr style=\"text-align: right;\">\n",
       "      <th></th>\n",
       "      <th>dieSize</th>\n",
       "      <th>failureType</th>\n",
       "      <th>lotName</th>\n",
       "      <th>trainTestLabel</th>\n",
       "      <th>waferIndex</th>\n",
       "      <th>waferMap</th>\n",
       "    </tr>\n",
       "  </thead>\n",
       "  <tbody>\n",
       "    <tr>\n",
       "      <th>0</th>\n",
       "      <td>False</td>\n",
       "      <td>False</td>\n",
       "      <td>False</td>\n",
       "      <td>False</td>\n",
       "      <td>False</td>\n",
       "      <td>False</td>\n",
       "    </tr>\n",
       "    <tr>\n",
       "      <th>1</th>\n",
       "      <td>False</td>\n",
       "      <td>False</td>\n",
       "      <td>False</td>\n",
       "      <td>False</td>\n",
       "      <td>False</td>\n",
       "      <td>False</td>\n",
       "    </tr>\n",
       "    <tr>\n",
       "      <th>2</th>\n",
       "      <td>False</td>\n",
       "      <td>False</td>\n",
       "      <td>False</td>\n",
       "      <td>False</td>\n",
       "      <td>False</td>\n",
       "      <td>False</td>\n",
       "    </tr>\n",
       "    <tr>\n",
       "      <th>3</th>\n",
       "      <td>False</td>\n",
       "      <td>False</td>\n",
       "      <td>False</td>\n",
       "      <td>False</td>\n",
       "      <td>False</td>\n",
       "      <td>False</td>\n",
       "    </tr>\n",
       "    <tr>\n",
       "      <th>4</th>\n",
       "      <td>False</td>\n",
       "      <td>False</td>\n",
       "      <td>False</td>\n",
       "      <td>False</td>\n",
       "      <td>False</td>\n",
       "      <td>False</td>\n",
       "    </tr>\n",
       "    <tr>\n",
       "      <th>...</th>\n",
       "      <td>...</td>\n",
       "      <td>...</td>\n",
       "      <td>...</td>\n",
       "      <td>...</td>\n",
       "      <td>...</td>\n",
       "      <td>...</td>\n",
       "    </tr>\n",
       "    <tr>\n",
       "      <th>811452</th>\n",
       "      <td>False</td>\n",
       "      <td>False</td>\n",
       "      <td>False</td>\n",
       "      <td>False</td>\n",
       "      <td>False</td>\n",
       "      <td>False</td>\n",
       "    </tr>\n",
       "    <tr>\n",
       "      <th>811453</th>\n",
       "      <td>False</td>\n",
       "      <td>False</td>\n",
       "      <td>False</td>\n",
       "      <td>False</td>\n",
       "      <td>False</td>\n",
       "      <td>False</td>\n",
       "    </tr>\n",
       "    <tr>\n",
       "      <th>811454</th>\n",
       "      <td>False</td>\n",
       "      <td>False</td>\n",
       "      <td>False</td>\n",
       "      <td>False</td>\n",
       "      <td>False</td>\n",
       "      <td>False</td>\n",
       "    </tr>\n",
       "    <tr>\n",
       "      <th>811455</th>\n",
       "      <td>False</td>\n",
       "      <td>False</td>\n",
       "      <td>False</td>\n",
       "      <td>False</td>\n",
       "      <td>False</td>\n",
       "      <td>False</td>\n",
       "    </tr>\n",
       "    <tr>\n",
       "      <th>811456</th>\n",
       "      <td>False</td>\n",
       "      <td>False</td>\n",
       "      <td>False</td>\n",
       "      <td>False</td>\n",
       "      <td>False</td>\n",
       "      <td>False</td>\n",
       "    </tr>\n",
       "  </tbody>\n",
       "</table>\n",
       "<p>811457 rows × 6 columns</p>\n",
       "</div>"
      ],
      "text/plain": [
       "        dieSize  failureType  lotName  trainTestLabel  waferIndex  waferMap\n",
       "0         False        False    False           False       False     False\n",
       "1         False        False    False           False       False     False\n",
       "2         False        False    False           False       False     False\n",
       "3         False        False    False           False       False     False\n",
       "4         False        False    False           False       False     False\n",
       "...         ...          ...      ...             ...         ...       ...\n",
       "811452    False        False    False           False       False     False\n",
       "811453    False        False    False           False       False     False\n",
       "811454    False        False    False           False       False     False\n",
       "811455    False        False    False           False       False     False\n",
       "811456    False        False    False           False       False     False\n",
       "\n",
       "[811457 rows x 6 columns]"
      ]
     },
     "execution_count": 5,
     "metadata": {},
     "output_type": "execute_result"
    }
   ],
   "source": [
    "# check for missing values \n",
    "df.isnull()"
   ]
  },
  {
   "cell_type": "markdown",
   "id": "5774db59-0e3b-4343-8f62-2012224699d9",
   "metadata": {},
   "source": [
    "### \n",
    "**Missingness** :\n",
    "\n",
    "1. True = 1\n",
    "2. False = 0"
   ]
  },
  {
   "cell_type": "code",
   "execution_count": 6,
   "id": "cbec2b6b-b7e5-4118-964d-e3aa194b4c00",
   "metadata": {},
   "outputs": [
    {
     "data": {
      "text/plain": [
       "dieSize           0\n",
       "failureType       0\n",
       "lotName           0\n",
       "trainTestLabel    0\n",
       "waferIndex        0\n",
       "waferMap          0\n",
       "dtype: int64"
      ]
     },
     "execution_count": 6,
     "metadata": {},
     "output_type": "execute_result"
    }
   ],
   "source": [
    "# missing values sum \n",
    "df.isnull().sum()"
   ]
  },
  {
   "cell_type": "markdown",
   "id": "4a5c2059-c85d-42e9-a799-e1e9faf2381f",
   "metadata": {},
   "source": [
    "####\n",
    "No missing Values across the features "
   ]
  },
  {
   "cell_type": "markdown",
   "id": "1dfa6504-cd2f-4792-a5f8-2635fb75e7db",
   "metadata": {},
   "source": [
    "## Data Cleaning And Duplicate check\n",
    "\n",
    "Before analyzing or sampling the semiconductor wafer dataset, we ensure that all metadata columns (non-image fields) are clean, scalar, and free from duplicates.\n",
    "\n",
    "\n",
    "This step helps avoid issues caused by array-like or mixed-type values, which can interfere with grouping, deduplication, and modeling later."
   ]
  },
  {
   "cell_type": "markdown",
   "id": "e159911f-33b7-4473-b2da-d6bd39293bda",
   "metadata": {},
   "source": [
    "#### \n",
    "1. Data Type Standardization:\n",
    "   To ensure consistency and compatibility across operations , all metadata columns are explicirtly cast to appropriate types\n",
    "\n",
    "2. Unhashable Type Detection\n",
    "\n",
    "Before checking for duplicates , we verify that no metadata columns contains unhashable types (e.g , lists or arrays)\n",
    "\n",
    "3. Flattening Array-Like Values\n",
    "Any array-like entries in metadata columns are flattened to scalar values\n",
    "\n",
    "4. Duplicate check (excluding waferMap)\n",
    "Since waferMap contains unhashable 2D arrays , it is excluded from the duplicate check"
   ]
  },
  {
   "cell_type": "code",
   "execution_count": 7,
   "id": "598993e3-4013-47e9-bb7f-2d1058c61556",
   "metadata": {},
   "outputs": [
    {
     "name": "stdout",
     "output_type": "stream",
     "text": [
      "dieSize: 0 array-like values\n",
      "failureType: 0 array-like values\n",
      "lotName: 0 array-like values\n",
      "trainTestLabel: 0 array-like values\n",
      "waferIndex: 0 array-like values\n",
      "Duplicate rows (excluding waferMap): 0\n"
     ]
    }
   ],
   "source": [
    "# Ensure all metadata columns are safe types\n",
    "df[\"dieSize\"] = df[\"dieSize\"].astype(float)\n",
    "df[\"failureType\"] = df[\"failureType\"].astype(str)\n",
    "df[\"lotName\"] = df[\"lotName\"].astype(str)\n",
    "df[\"trainTestLabel\"] = df[\"trainTestLabel\"].astype(str)\n",
    "df[\"waferIndex\"] = df[\"waferIndex\"].astype(float)\n",
    "\n",
    "# Exclude waferMap and wafer_map_str when checking duplicates\n",
    "metadata_cols = [\"dieSize\", \"failureType\", \"lotName\", \"trainTestLabel\", \"waferIndex\"]\n",
    "\n",
    "# Check for unhashable values just in case\n",
    "for col in metadata_cols:\n",
    "    bad = df[col].apply(lambda x: isinstance(x, (list, np.ndarray))).sum()\n",
    "    print(f\"{col}: {bad} array-like values\")\n",
    "\n",
    "# Flatten any array-like metadata values\n",
    "for col in metadata_cols:\n",
    "    df[col] = df[col].apply(lambda x: x[0] if isinstance(x, (list, np.ndarray)) else x)\n",
    "\n",
    "# safely check for duplicates based only on metadata\n",
    "\n",
    "dup_count = df.duplicated(subset=metadata_cols).sum()\n",
    "print(f\"Duplicate rows (excluding waferMap): {dup_count}\")"
   ]
  },
  {
   "cell_type": "code",
   "execution_count": 8,
   "id": "6e362a3c-4480-440b-89f4-b620aa1b6ca5",
   "metadata": {},
   "outputs": [
    {
     "name": "stdout",
     "output_type": "stream",
     "text": [
      "Empty DataFrame\n",
      "Columns: [failureType, lotName, duplicate_count]\n",
      "Index: []\n"
     ]
    }
   ],
   "source": [
    "# Filter duplicate rows based on metadata\n",
    "dup_rows = df[df.duplicated(subset=metadata_cols, keep=False)]\n",
    "\n",
    "# Group and count duplicates\n",
    "summary = (\n",
    "    dup_rows.groupby(['failureType', 'lotName'])\n",
    "    .size()\n",
    "    .reset_index(name='duplicate_count')\n",
    "    .sort_values(by='duplicate_count', ascending=False)\n",
    ")\n",
    "\n",
    "print(summary)\n"
   ]
  },
  {
   "cell_type": "markdown",
   "id": "8b38fd32-9c51-4fab-84c6-7da17d91c118",
   "metadata": {},
   "source": [
    "####\n",
    "\n",
    "No duplicate values "
   ]
  },
  {
   "cell_type": "markdown",
   "id": "376edc32-c166-4d03-af3c-766f76ec6446",
   "metadata": {},
   "source": [
    "## Class Imbalance Check\n",
    "\n",
    "**Objective**:\n",
    "Before modeling , we assess whether the target variable **failureType** is imbalanced . \n",
    "\n",
    "Class Imbalance can **bias models** towardsmajority classes , reducing performance on minority classes ."
   ]
  },
  {
   "cell_type": "code",
   "execution_count": 9,
   "id": "deadba1e-14d1-4996-8a06-6b2ccf75c54c",
   "metadata": {},
   "outputs": [
    {
     "data": {
      "text/plain": [
       "failureType\n",
       "[0 0]        638507\n",
       "none         147431\n",
       "Edge-Ring      9680\n",
       "Edge-Loc       5189\n",
       "Center         4294\n",
       "Name: count, dtype: int64"
      ]
     },
     "execution_count": 9,
     "metadata": {},
     "output_type": "execute_result"
    }
   ],
   "source": [
    "df[\"failureType\"].value_counts().head()"
   ]
  },
  {
   "cell_type": "markdown",
   "id": "f837cfa2-6714-447f-870e-2e80db0b8b59",
   "metadata": {},
   "source": [
    "####\n",
    "class [0 0] is the dominant class with 638,507 samples followed by **none** with 147,431 samples \n",
    "\n",
    "There is a significant class imbalance \n",
    "\n",
    "Imbalanced data can lead to :\n",
    "\n",
    "1. Biased predictions toward majority class\n",
    "2. \n",
    "3. Poor recall/precision for minority classes\n",
    "4. \n",
    "5. Misleading accuracy scores"
   ]
  },
  {
   "cell_type": "code",
   "execution_count": 10,
   "id": "6ee95e4c-a836-4c57-9476-717d823cb2b9",
   "metadata": {},
   "outputs": [
    {
     "name": "stdout",
     "output_type": "stream",
     "text": [
      "failureType\n",
      "[0 0]        638507\n",
      "none         147431\n",
      "Edge-Ring      9680\n",
      "Edge-Loc       5189\n",
      "Center         4294\n",
      "Loc            3593\n",
      "Scratch        1193\n",
      "Random          866\n",
      "Donut           555\n",
      "Near-full       149\n",
      "Name: count, dtype: int64\n"
     ]
    },
    {
     "data": {
      "image/png": "[encoded data removed]",
      "text/plain": [
       "<Figure size 800x500 with 1 Axes>"
      ]
     },
     "metadata": {},
     "output_type": "display_data"
    }
   ],
   "source": [
    "# Count occurrences of each class\n",
    "class_counts = df['failureType'].value_counts()\n",
    "print(class_counts)\n",
    "\n",
    "# Visualize the distribution\n",
    "import seaborn as sns\n",
    "import matplotlib.pyplot as plt\n",
    "\n",
    "plt.figure(figsize=(8, 5))\n",
    "sns.barplot(x=class_counts.index, y=class_counts.values)\n",
    "plt.title('Failure Type Distribution')\n",
    "plt.ylabel('Count')\n",
    "plt.xticks(rotation=45)\n",
    "plt.tight_layout()\n",
    "plt.show()\n"
   ]
  },
  {
   "cell_type": "markdown",
   "id": "7be76f0d-0a7f-4ecb-b4c8-98af798f6752",
   "metadata": {},
   "source": [
    "## Create a Blanced 300k Sample\n",
    "\n",
    "This is to make the dataset easier to handle and consistent processing speed . \n",
    "\n",
    "We created 300,000 row sample from 800,000 row data that preserves the original **train/test ratio**\n",
    "\n",
    "This approach guarantees that both training and testing subsets remain well represented in the sample avoiding sampling bias "
   ]
  },
  {
   "cell_type": "code",
   "execution_count": 11,
   "id": "f027df96-898a-4cb0-acc9-d10dbfb2d790",
   "metadata": {},
   "outputs": [
    {
     "name": "stderr",
     "output_type": "stream",
     "text": [
      "C:\\Users\\Zbook\\AppData\\Local\\Temp\\ipykernel_6540\\1731451845.py:4: DeprecationWarning: DataFrameGroupBy.apply operated on the grouping columns. This behavior is deprecated, and in a future version of pandas the grouping columns will be excluded from the operation. Either pass `include_groups=False` to exclude the groupings or explicitly select the grouping columns after groupby to silence this warning.\n",
      "  .apply(lambda x: x.sample(frac=300_000/len(df), random_state=42))\n"
     ]
    },
    {
     "name": "stdout",
     "output_type": "stream",
     "text": [
      " Sample saved: WM811K_sample.pkl with 299999 rows\n"
     ]
    }
   ],
   "source": [
    "# Create a balanced 300k sample (if you want to maintain train/test ratio)\n",
    "df_sample = (\n",
    "    df.groupby(\"trainTestLabel\", group_keys=False)\n",
    "      .apply(lambda x: x.sample(frac=300_000/len(df), random_state=42))\n",
    "      .reset_index(drop=True)\n",
    ")\n",
    "\n",
    "df_sample.to_pickle(\"WM811K_sample.pkl\")\n",
    "print(f\" Sample saved: WM811K_sample.pkl with {len(df_sample)} rows\")"
   ]
  },
  {
   "cell_type": "markdown",
   "id": "af44307f-136c-4f33-8bea-003ff37efb5f",
   "metadata": {},
   "source": [
    "## MODELING\n",
    "\n",
    "**OBJECTIVE**:\n",
    "Build and compare classification models (Logistic Regression and RandomForest).\n",
    "\n",
    "Aim is to predict **failureType** from wafer map data\n",
    "\n",
    "Address class imbalance using **SMOTE**\n",
    "\n",
    "**Workflow Summary**\n",
    "\n",
    "Feature Preparation: Flattened waferMap arrays into 1D vectors.\n",
    "\n",
    "Label Encoding: Converted failureType to categorical codes.\n",
    "\n",
    "Train-Test Split: Stratified split to preserve class proportions.\n",
    "\n",
    "SMOTE Resampling: Applied to training set to balance class distribution.\n",
    "\n",
    "Model Training: Logistic Regression with class_weight='balanced'.\n",
    "\n",
    "Evaluation: Used classification_report to assess precision, recall, and F1-score."
   ]
  },
  {
   "cell_type": "code",
   "execution_count": 15,
   "id": "314c9c21-138d-48f6-bb4f-33b711fca64e",
   "metadata": {},
   "outputs": [
    {
     "name": "stdout",
     "output_type": "stream",
     "text": [
      "LogisticRegression Results:\n",
      "              precision    recall  f1-score   support\n",
      "\n",
      "           0       0.13      0.83      0.22       305\n",
      "           1       0.30      0.98      0.46        44\n",
      "           2       0.05      0.67      0.09       386\n",
      "           3       0.36      0.87      0.51       704\n",
      "           4       0.04      0.28      0.07       269\n",
      "           5       0.07      1.00      0.13        13\n",
      "           6       0.09      0.88      0.17        65\n",
      "           7       0.00      0.25      0.00        93\n",
      "           8       0.93      0.40      0.56     47212\n",
      "           9       0.50      0.58      0.54     10909\n",
      "\n",
      "    accuracy                           0.44     60000\n",
      "   macro avg       0.25      0.67      0.27     60000\n",
      "weighted avg       0.83      0.44      0.55     60000\n",
      "\n"
     ]
    }
   ],
   "source": [
    "# Resize All Maps to A Common Shape\n",
    "from skimage.transform import resize\n",
    "import numpy as np\n",
    "\n",
    "# choose a target shape \n",
    "target_shape = (32,32)\n",
    "def resize_map(map_array):\n",
    "    return resize(map_array,target_shape,anti_aliasing=True)\n",
    "\n",
    "# Apply resizing\n",
    "df_sample[\"waferMap_resized\"] = df_sample[\"waferMap\"].apply(resize_map)\n",
    "\n",
    "\n",
    "\n",
    "# convert waferMap arrays to flattened vectors\n",
    "X = np.stack(df_sample[\"waferMap_resized\"].values).reshape(len(df_sample),-1)\n",
    "y = df_sample[\"failureType\"].astype(\"category\").cat.codes # encode labels\n",
    "# Train-Test-Split\n",
    "from sklearn.model_selection import train_test_split\n",
    "X_train,X_test,y_train,y_test = train_test_split(\n",
    "    X,y,test_size=0.2,stratify=y,random_state=42\n",
    ")\n",
    "\n",
    "# Apply smote to Training set\n",
    "from imblearn.over_sampling import SMOTE\n",
    "smote = SMOTE(random_state=42)\n",
    "X_train_resampled,y_train_resampled = smote.fit_resample(X_train,y_train)\n",
    "\n",
    "# Train Logistic Regression\n",
    "from sklearn.linear_model import LogisticRegression\n",
    "from sklearn.metrics import classification_report\n",
    "from sklearn.exceptions import ConvergenceWarning\n",
    "import warnings\n",
    "warnings.filterwarnings(\"ignore\",category=ConvergenceWarning)\n",
    "\n",
    "# initiate logistic regression \n",
    "\n",
    "logReg = LogisticRegression(\n",
    "    solver=\"saga\",max_iter=300,class_weight=\"balanced\")\n",
    "# fit the model\n",
    "logReg.fit(X_train_resampled,y_train_resampled)\n",
    "\n",
    "# predict on the test set\n",
    "y_pred = logReg.predict(X_test)\n",
    "\n",
    "print(\"LogisticRegression Results:\")\n",
    "print(classification_report(y_test,y_pred))"
   ]
  },
  {
   "cell_type": "markdown",
   "id": "b0ccca02-b76f-41df-85cf-34485bb27741",
   "metadata": {},
   "source": [
    "### \n",
    "**Observations**\n",
    "\n",
    "1. Overall Accuracy : **44%**\n",
    "2. \n",
    "3. Weighted F1-score:0.55 -- Accounts for class imbalance and gives a better sense of real-world performance.\n",
    "4. \n",
    "5. Macro F1-score:0.27 -- Shows that performance across classes is uneven , with similar classes struggling.\n",
    "6. \n",
    "\n",
    "The model is biased towards majority classes despite class_weight=\"balanced\"\n",
    "\n",
    "Recall is generally high, meaning the model is good at catching positives, but precision suffers , especially for rare classes"
   ]
  },
  {
   "cell_type": "markdown",
   "id": "8c4b2233-c335-42f1-a18c-5aebd2d7a0da",
   "metadata": {},
   "source": [
    "### \n",
    "\n",
    "**OBJECTIVE 2** : RandomForest Model"
   ]
  },
  {
   "cell_type": "code",
   "execution_count": 17,
   "id": "cc32583b-d7a1-4273-a6a9-ff0647eb0d0c",
   "metadata": {},
   "outputs": [
    {
     "name": "stdout",
     "output_type": "stream",
     "text": [
      "Random Forest Results:\n",
      "              precision    recall  f1-score   support\n",
      "\n",
      "           0       0.64      0.44      0.52       305\n",
      "           1       0.78      0.57      0.66        44\n",
      "           2       0.63      0.17      0.27       386\n",
      "           3       0.76      0.83      0.79       704\n",
      "           4       0.58      0.11      0.19       269\n",
      "           5       1.00      0.31      0.47        13\n",
      "           6       0.54      0.23      0.32        65\n",
      "           7       1.00      0.04      0.08        93\n",
      "           8       0.96      0.94      0.95     47212\n",
      "           9       0.77      0.90      0.83     10909\n",
      "\n",
      "    accuracy                           0.92     60000\n",
      "   macro avg       0.77      0.45      0.51     60000\n",
      "weighted avg       0.92      0.92      0.91     60000\n",
      "\n"
     ]
    }
   ],
   "source": [
    "from sklearn.ensemble import RandomForestClassifier\n",
    "random_forest = RandomForestClassifier(\n",
    "    n_estimators=100,class_weight=\"balanced\",random_state=42,n_jobs=-1)\n",
    "random_forest.fit(X_train_resampled,y_train_resampled)\n",
    "\n",
    "# predict on test features\n",
    "y_pred_random_forest = random_forest.predict(X_test)\n",
    "print(\"Random Forest Results:\")\n",
    "print(classification_report(y_test,y_pred_random_forest))"
   ]
  },
  {
   "cell_type": "markdown",
   "id": "d60fc66b-11b3-48f4-b27c-b6bb5bfa9d31",
   "metadata": {},
   "source": [
    "###\n",
    "**OBservations**\n",
    "\n",
    "Accuracy score : **92%**\n",
    "Weighted F1-score shows a consistent performance across all samples , even with imbalance\n",
    "\n",
    "Macro F1-score still modest , but much better , indicating improved handling of minority classes \n",
    "\n",
    "**Class-Level Highlights**\n",
    "\n",
    "Class 8 (majority class): Precision and recall both near-perfect (0.96 / 0.94).\n",
    "\n",
    "Class 9: Strong precision and recall (0.77 / 0.90).\n",
    "\n",
    "Minority classes (0–7):\n",
    "\n",
    "Precision is often high (e.g., class 5 and 7 at 1.00), but recall is low — suggesting the model is cautious and only predicts these when highly confident.\n",
    "\n",
    "Class 3 stands out with solid balance (F1 = 0.79).\n",
    "\n",
    "**NOTE**\n",
    "Random Forest handles nonlinear patterns and class imbalance far better than Logistic Regression.\n",
    "\n",
    "Rare classes are still tricky, but the model is making smarter predictions — fewer false positives, more confident hits.\n",
    "\n",
    "SMOTE + class_weight=\"balanced\" + tree-based model is a powerful combo for this wafer failure classification task."
   ]
  },
  {
   "cell_type": "code",
   "execution_count": 22,
   "id": "125c5f3a-ace2-44c9-a70c-20f075892951",
   "metadata": {},
   "outputs": [
    {
     "name": "stdout",
     "output_type": "stream",
     "text": [
      "              Metric  Logistic Regression  Random Forest\n",
      "0           Accuracy                 0.44           0.92\n",
      "1  Weighted F1-score                 0.55           0.91\n",
      "2     Macro F1-score                 0.27           0.51\n"
     ]
    }
   ],
   "source": [
    "import pandas as pd\n",
    "\n",
    "summary_data = {\n",
    "    \"Metric\": [\"Accuracy\", \"Weighted F1-score\", \"Macro F1-score\"],\n",
    "    \"Logistic Regression\": [0.44, 0.55, 0.27],\n",
    "    \"Random Forest\": [0.92, 0.91, 0.51]\n",
    "}\n",
    "\n",
    "summary_df = pd.DataFrame(summary_data)\n",
    "print(summary_df)\n"
   ]
  },
  {
   "cell_type": "markdown",
   "id": "cd0da7fe-59bf-45be-9d6a-38d5c9856e23",
   "metadata": {},
   "source": [
    "### Confusion Matrix Visualization\n",
    "\n",
    "Plot confusion matrices for both models to see:\n",
    "\n",
    "1. Which classes are being confused\n",
    "2. How well minority classes are handled\n",
    "3. Whether Random Forest reduces false positives/negatives "
   ]
  },
  {
   "cell_type": "code",
   "execution_count": 21,
   "id": "6997c7ce-6ee0-43e7-bbaa-ad5b90882ace",
   "metadata": {},
   "outputs": [
    {
     "data": {
      "image/png": "[encoded data removed]",
      "text/plain": [
       "<Figure size 640x480 with 2 Axes>"
      ]
     },
     "metadata": {},
     "output_type": "display_data"
    },
    {
     "data": {
      "image/png": "[encoded data removed]",
      "text/plain": [
       "<Figure size 640x480 with 2 Axes>"
      ]
     },
     "metadata": {},
     "output_type": "display_data"
    }
   ],
   "source": [
    "from sklearn.metrics import ConfusionMatrixDisplay\n",
    "\n",
    "ConfusionMatrixDisplay.from_predictions(y_test, y_pred, normalize='true')\n",
    "plt.title(\"Logistic Regression Confusion Matrix\")\n",
    "plt.xticks(rotation=45)\n",
    "plt.tight_layout()\n",
    "plt.show()\n",
    "\n",
    "ConfusionMatrixDisplay.from_predictions(y_test, y_pred_random_forest, normalize='true')\n",
    "plt.title(\"Random Forest Confusion Matrix\")\n",
    "plt.xticks(rotation=45)\n",
    "plt.tight_layout()\n",
    "plt.show()\n"
   ]
  },
  {
   "cell_type": "markdown",
   "id": "0ac5fe49-7209-4b08-8a1f-5b6614c8a2d0",
   "metadata": {},
   "source": [
    "####\n",
    " **Business Interpretation**\n",
    " \n",
    "**Summarize:**\n",
    "\n",
    "Logistic Regression: Simpler, faster, but struggles with nonlinear patterns and minority classes.\n",
    "\n",
    "Random Forest: Slower to train, but far superior in accuracy, balance, and interpretability via feature importance."
   ]
  },
  {
   "cell_type": "code",
   "execution_count": null,
   "id": "a3412d45-274f-459c-8334-9c132489722c",
   "metadata": {},
   "outputs": [],
   "source": []
  }
 ],
 "metadata": {
  "kernelspec": {
   "display_name": "Python 3 (ipykernel)",
   "language": "python",
   "name": "python3"
  },
  "language_info": {
   "codemirror_mode": {
    "name": "ipython",
    "version": 3
   },
   "file_extension": ".py",
   "mimetype": "text/x-python",
   "name": "python",
   "nbconvert_exporter": "python",
   "pygments_lexer": "ipython3",
   "version": "3.12.7"
  }
 },
 "nbformat": 4,
 "nbformat_minor": 5
}
